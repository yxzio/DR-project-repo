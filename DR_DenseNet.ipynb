{
 "cells": [
  {
   "cell_type": "markdown",
   "id": "cce57ed5-2cf4-4af0-bafb-c46c4233f599",
   "metadata": {},
   "source": [
    "# CSE 398 Deep Learning Final Project\n",
    "## Detecting Diabetic Retinopathy in Enhanced Retinal Fundus Images\n",
    "### DeepNet Architecture Tests with Low-Quality and Enhanced Low-Quality Retinal Fundus Images\n",
    "\n",
    "James Hoffmeister"
   ]
  },
  {
   "cell_type": "markdown",
   "id": "eca6e92a-65e2-42ef-bb1d-44d1affeeb7a",
   "metadata": {},
   "source": [
    "### tdqm\n",
    "\n",
    "We install TDQM to have progress bars while training. This helps understand how fast the models may train and validate data."
   ]
  },
  {
   "cell_type": "code",
   "execution_count": 19,
   "id": "80657d10-6494-4fa8-ae46-e2c94a2b4650",
   "metadata": {},
   "outputs": [
    {
     "name": "stdout",
     "output_type": "stream",
     "text": [
      "Defaulting to user installation because normal site-packages is not writeable\n",
      "Requirement already satisfied: tqdm in /opt/tljh/user/lib/python3.9/site-packages (4.62.3)\n",
      "\n",
      "\u001b[1m[\u001b[0m\u001b[34;49mnotice\u001b[0m\u001b[1;39;49m]\u001b[0m\u001b[39;49m A new release of pip is available: \u001b[0m\u001b[31;49m23.2.1\u001b[0m\u001b[39;49m -> \u001b[0m\u001b[32;49m25.0.1\u001b[0m\n",
      "\u001b[1m[\u001b[0m\u001b[34;49mnotice\u001b[0m\u001b[1;39;49m]\u001b[0m\u001b[39;49m To update, run: \u001b[0m\u001b[32;49mpip install --upgrade pip\u001b[0m\n"
     ]
    }
   ],
   "source": [
    "!pip install tqdm"
   ]
  },
  {
   "cell_type": "code",
   "execution_count": 2,
   "id": "c693e14e-137f-44fc-bffd-fe77ffac2ebb",
   "metadata": {},
   "outputs": [
    {
     "name": "stdout",
     "output_type": "stream",
     "text": [
      "Training Data directory './train' is ready.\n",
      "Reject Test Data (Original) directory './test/original/Reject' is ready.\n",
      "Enhanced Reject Test Data directory './test/enhanced' is ready.\n",
      "\n",
      "All datasets are correctly prepared. Proceeding with model training/testing.\n"
     ]
    }
   ],
   "source": [
    "import os\n",
    "\n",
    "train_dir = \"./train\"\n",
    "reject_test_dir = \"./test/original/Reject\"\n",
    "enhanced_test_dir = \"./test/enhanced\"\n",
    "\n",
    "def check_data_directory(directory, name):\n",
    "    if not os.path.exists(directory):\n",
    "        print(f\"ERROR: {name} directory '{directory}' does not exist.\")\n",
    "        return False\n",
    "    elif not any(os.scandir(directory)):\n",
    "        print(f\"WARNING: {name} directory '{directory}' exists but is EMPTY.\")\n",
    "        return False\n",
    "    else:\n",
    "        print(f\"{name} directory '{directory}' is ready.\")\n",
    "        return True\n",
    "\n",
    "# Check all required directories\n",
    "train_ready = check_data_directory(train_dir, \"Training Data\")\n",
    "reject_ready = check_data_directory(reject_test_dir, \"Reject Test Data (Original)\")\n",
    "enhanced_ready = check_data_directory(enhanced_test_dir, \"Enhanced Reject Test Data\")\n",
    "\n",
    "# Optional: Exit if any critical directory is missing\n",
    "if not (train_ready and reject_ready and enhanced_ready):\n",
    "    raise RuntimeError(\"\\nDataset check failed. Please make sure all required data folders have images before continuing.\")\n",
    "else:\n",
    "    print(\"\\nAll datasets are correctly prepared. Proceeding with model training/testing.\")\n"
   ]
  },
  {
   "cell_type": "markdown",
   "id": "251b46b0-638f-4a50-9960-fa30ef54949d",
   "metadata": {},
   "source": [
    "## Imports and Transforms\n",
    "\n",
    "We define transforms thattranslate the original 512x512 image format into 224x224 imagenet standard for the DenseNet model. We also add some preprocessing to reduce overfitting."
   ]
  },
  {
   "cell_type": "code",
   "execution_count": 3,
   "id": "a7a3199a-2cbb-445a-86a5-9f05edea6237",
   "metadata": {},
   "outputs": [
    {
     "name": "stderr",
     "output_type": "stream",
     "text": [
      "/opt/tljh/user/lib/python3.9/site-packages/torchvision/io/image.py:13: UserWarning: Failed to load image Python extension: /opt/tljh/user/lib/python3.9/site-packages/torchvision/image.so: undefined symbol: _ZN2at4_ops19empty_memory_format4callEN3c108ArrayRefIlEENS2_8optionalINS2_10ScalarTypeEEENS5_INS2_6LayoutEEENS5_INS2_6DeviceEEENS5_IbEENS5_INS2_12MemoryFormatEEE\n",
      "  warn(f\"Failed to load image Python extension: {e}\")\n"
     ]
    },
    {
     "name": "stdout",
     "output_type": "stream",
     "text": [
      "Using CUDA\n",
      "Transformers defined.\n"
     ]
    }
   ],
   "source": [
    "from torchvision import datasets, transforms\n",
    "from torchvision.datasets import ImageFolder\n",
    "from torch.utils.data import DataLoader\n",
    "from torch.utils.data import random_split\n",
    "import numpy as np\n",
    "from sklearn.model_selection import StratifiedShuffleSplit\n",
    "from torch.utils.data import Subset\n",
    "from sklearn.utils.class_weight import compute_class_weight\n",
    "from torch.utils.data import WeightedRandomSampler\n",
    "import torch\n",
    "from collections import Counter\n",
    "\n",
    "if torch.cuda.is_available:\n",
    "  device = torch.device(\"cuda\")\n",
    "  print('Using CUDA')\n",
    "else:\n",
    "  device = torch.device(\"cpu\")\n",
    "  print('Could not use CUDA')\n",
    "\n",
    "# image transform to DenseNet input architecture\n",
    "transform_train = transforms.Compose([\n",
    "    transforms.Resize((224, 224)),\n",
    "    transforms.RandomHorizontalFlip(p=0.5),\n",
    "    transforms.RandomVerticalFlip(p=0.5),\n",
    "    transforms.RandomRotation(degrees=20),\n",
    "    transforms.RandomAffine(degrees=0, translate=(0.1, 0.1)),  # random shift\n",
    "    transforms.ColorJitter(brightness=0.2, contrast=0.2, saturation=0.2, hue=0.1),\n",
    "    transforms.RandomPerspective(distortion_scale=0.2, p=0.5), # simulate lens distortion\n",
    "    transforms.ToTensor(),\n",
    "    transforms.Normalize(mean=[0.5]*3, std=[0.5]*3)\n",
    "])\n",
    "\n",
    "transform_val = transforms.Compose([\n",
    "    transforms.Resize((224, 224)),\n",
    "    transforms.ToTensor(),\n",
    "    transforms.Normalize(mean=[0.5]*3, std=[0.5]*3)\n",
    "])\n",
    "\n",
    "print(\"Transformers defined.\")\n"
   ]
  },
  {
   "cell_type": "markdown",
   "id": "8f1da3f4-ecbb-480e-b3f5-0546e936dd83",
   "metadata": {},
   "source": [
    "## Data Loading\n",
    "\n",
    "We load the data from the directories using a filtered image folder object that detects only images that may be used for training and testing. We stratify the data before splitting it into training and validation subsets randomly. \n",
    "\n",
    "I am more used to Numpy than Torch so sometimes for tensor operations I default to Numpy."
   ]
  },
  {
   "cell_type": "code",
   "execution_count": 4,
   "id": "45df5135-219b-49a2-9765-28f8d6af7332",
   "metadata": {},
   "outputs": [
    {
     "name": "stdout",
     "output_type": "stream",
     "text": [
      "Subsets defined.\n"
     ]
    }
   ],
   "source": [
    "# this was only necessary because magic had some invisible file\n",
    "# in my folder that I had to tell the code to ignore ¯\\_(ツ)_/¯\n",
    "class FilteredImageFolder(ImageFolder):\n",
    "    def find_classes(self, directory):\n",
    "        # ignore the .ipynb file hidden in my train folder\n",
    "        classes = [d for d in os.listdir(directory) if os.path.isdir(os.path.join(directory, d)) and not d.startswith('.')]\n",
    "        classes.sort()\n",
    "        class_to_idx = {cls_name: i for i, cls_name in enumerate(classes)}\n",
    "        return classes, class_to_idx\n",
    "# using imagefolder to extract data\n",
    "dataset = FilteredImageFolder(root=train_dir, transform=None)\n",
    "\n",
    "# stratified split\n",
    "targets = dataset.targets\n",
    "splitter = StratifiedShuffleSplit(n_splits=1, test_size=0.2, random_state=42)\n",
    "train_id, val_id = next(splitter.split(np.zeros(len(targets)), targets))\n",
    "\n",
    "# subsets\n",
    "train_dataset = Subset(dataset, train_id)\n",
    "val_dataset = Subset(dataset, val_id)\n",
    "\n",
    "# add transformations\n",
    "train_dataset.dataset.transform = transform_train\n",
    "val_dataset.dataset.transform = transform_val\n",
    "\n",
    "print(\"Subsets defined.\")"
   ]
  },
  {
   "cell_type": "markdown",
   "id": "4c38aab2-d00b-49d2-85cd-90edb4ca104f",
   "metadata": {},
   "source": [
    "## Weighted Sampling\n",
    "\n",
    "We weight the sampler because the class distribution is heavily skewed to the class 0. We compute class weights as the inverse of class size before manually adjusting to desired sizes. Without this critical step, the model would only ever learn class 0."
   ]
  },
  {
   "cell_type": "code",
   "execution_count": 5,
   "id": "4ad838d2-05ef-45ef-aa30-fd670be4314e",
   "metadata": {},
   "outputs": [
    {
     "name": "stdout",
     "output_type": "stream",
     "text": [
      "Data loaders prepared.\n"
     ]
    }
   ],
   "source": [
    "# weighted sampler to deal with class imbalance\n",
    "\n",
    "train_targets = torch.tensor([dataset.targets[i] for i in train_dataset.indices], device=device)\n",
    "num_classes = train_targets.max().item() + 1\n",
    "class_counts = torch.bincount(train_targets, minlength=num_classes)\n",
    "class_weights_per_class = 1. / (class_counts.float() ** 0.5)\n",
    "class_weights_per_class[0] *= 0.5\n",
    "class_weights_per_class[1] *= 3\n",
    "class_weights_per_class[3] *= 3\n",
    "class_weights_per_class[2] *= 2\n",
    "samples_weight = class_weights_per_class[train_targets]\n",
    "sampler = WeightedRandomSampler(weights=samples_weight, num_samples=len(samples_weight), replacement=True)\n",
    "\n",
    "# load data\n",
    "train_loader = DataLoader(train_dataset, batch_size=64, sampler=sampler, num_workers=4)\n",
    "val_loader = DataLoader(val_dataset, batch_size=64, shuffle=False, num_workers=4)\n",
    "\n",
    "print(\"Data loaders prepared.\")"
   ]
  },
  {
   "cell_type": "markdown",
   "id": "d706e10e-e8f2-4508-a450-879c5183df04",
   "metadata": {},
   "source": [
    "## Model Definition\n",
    "\n",
    "We choose DenseNet121 for this test. This is considerably larger than the other models being trained for this experiment. It is also similar to one of the models used in the original paper that developed the EyeQ dataset. We freeze all but a few of the layers (denseblock4, norm5, classifier). The classifier has dropout to ensure there is no overfitting. "
   ]
  },
  {
   "cell_type": "code",
   "execution_count": 6,
   "id": "15f0eeec-a654-460f-8104-ebe209a24fd1",
   "metadata": {},
   "outputs": [
    {
     "name": "stdout",
     "output_type": "stream",
     "text": [
      "Model defined.\n"
     ]
    }
   ],
   "source": [
    "import torch\n",
    "import torch.nn as nn\n",
    "import torch.optim as optim\n",
    "from torchvision import models\n",
    "\n",
    "# load densenet121 pretrained model\n",
    "model = models.densenet121(weights='IMAGENET1K_V1')\n",
    "num_ftrs = model.classifier.in_features\n",
    "# added dropout to fix overfitting\n",
    "model.classifier = nn.Sequential(\n",
    "    nn.Dropout(0.5),\n",
    "    nn.Linear(model.classifier.in_features, 5)  # 0-4\n",
    ")\n",
    "\n",
    "# freeze all parameters\n",
    "for param in model.parameters():\n",
    "    param.requires_grad = False\n",
    "\n",
    "# unfreeze denseblock4, classifier (last few layers)\n",
    "for name, param in model.features.denseblock4.named_parameters():\n",
    "    param.requires_grad = True\n",
    "\n",
    "for name, param in model.features.norm5.named_parameters():\n",
    "    param.requires_grad = True\n",
    "\n",
    "for name, param in model.classifier.named_parameters():\n",
    "    param.requires_grad = True\n",
    "    \n",
    "trainable_params = filter(lambda p: p.requires_grad, model.parameters())\n",
    "\n",
    "model = model.to(device)\n",
    "\n",
    "print(\"Model defined.\")"
   ]
  },
  {
   "cell_type": "markdown",
   "id": "4df61afc-ce42-4603-b37a-9d427cfadbbf",
   "metadata": {},
   "source": [
    "## Loss, Optimizer, and Scheduler\n",
    "\n",
    "We use focal loss and the Adam optimizer. Focal loss is used because of the underrepresented classes 1 and 3. We use a Cosine-Annealing Learning Rate scheduler to smoothly decrease learning rate over time."
   ]
  },
  {
   "cell_type": "code",
   "execution_count": 7,
   "id": "31cccf5d-350c-4749-be20-e235cb0a2bb4",
   "metadata": {},
   "outputs": [
    {
     "name": "stdout",
     "output_type": "stream",
     "text": [
      "Loss, Optimizer, and Scheduler defined.\n"
     ]
    }
   ],
   "source": [
    "import torch.nn as nn\n",
    "\n",
    "class FocalLoss(nn.Module):\n",
    "    def __init__(self, alpha=0.25, gamma=2, num_classes=5):\n",
    "        super(FocalLoss, self).__init__()\n",
    "        self.alpha = alpha\n",
    "        self.gamma = gamma\n",
    "        self.num_classes = num_classes\n",
    "        self.ce_loss = nn.CrossEntropyLoss(reduction='none')\n",
    "\n",
    "    def forward(self, inputs, targets):\n",
    "        #calculate cross entropy loss\n",
    "        ce_loss = self.ce_loss(inputs, targets)\n",
    "        # compute probability of correct class\n",
    "        pt = torch.exp(-ce_loss)\n",
    "        # focal loss\n",
    "        loss = self.alpha * (1 - pt) ** self.gamma * ce_loss\n",
    "        return loss.mean()  # return the mean loss\n",
    "\n",
    "\n",
    "# using cross-entropy loss, pretty standard\n",
    "criterion = FocalLoss(alpha=0.25, gamma=2, num_classes=5)\n",
    "\n",
    "# using an ADAM optimizer, mentioned in lecture\n",
    "# also regularizing with weight decay since initial tests showed heavy overfitting\n",
    "optimizer = optim.Adam(trainable_params, lr=1e-4, weight_decay=1e-4)\n",
    "\n",
    "# scheduler to bring down learning rate to reduce overfitting\n",
    "scheduler = torch.optim.lr_scheduler.CosineAnnealingLR(optimizer, T_max=4)\n",
    "\n",
    "print(\"Loss, Optimizer, and Scheduler defined.\")"
   ]
  },
  {
   "cell_type": "markdown",
   "id": "79ab0976-9c9d-4415-8792-ba46caa54b87",
   "metadata": {},
   "source": [
    "## Model Training\n",
    "\n",
    "We train the model for a total of 7 epochs on the training data. "
   ]
  },
  {
   "cell_type": "code",
   "execution_count": 8,
   "id": "64b68294-b8c0-4421-8243-bbbf537985e0",
   "metadata": {
    "scrolled": true,
    "tags": []
   },
   "outputs": [
    {
     "name": "stderr",
     "output_type": "stream",
     "text": [
      "                                                                         \r"
     ]
    },
    {
     "name": "stdout",
     "output_type": "stream",
     "text": [
      "\n",
      "Epoch [1/4] - Train Loss: 30.2946, Train Acc: 0.4380\n"
     ]
    },
    {
     "name": "stderr",
     "output_type": "stream",
     "text": [
      "                                                                           \r"
     ]
    },
    {
     "name": "stdout",
     "output_type": "stream",
     "text": [
      "Validation Acc: 0.2977\n",
      "Accuracy for class 0: 21.86%\n",
      "Accuracy for class 1: 39.01%\n",
      "Accuracy for class 2: 62.15%\n",
      "Accuracy for class 3: 40.30%\n",
      "Accuracy for class 4: 40.00%\n"
     ]
    },
    {
     "name": "stderr",
     "output_type": "stream",
     "text": [
      "                                                                         \r"
     ]
    },
    {
     "name": "stdout",
     "output_type": "stream",
     "text": [
      "\n",
      "Epoch [2/4] - Train Loss: 17.8628, Train Acc: 0.6237\n"
     ]
    },
    {
     "name": "stderr",
     "output_type": "stream",
     "text": [
      "                                                                           \r"
     ]
    },
    {
     "name": "stdout",
     "output_type": "stream",
     "text": [
      "Validation Acc: 0.4141\n",
      "Accuracy for class 0: 38.47%\n",
      "Accuracy for class 1: 50.00%\n",
      "Accuracy for class 2: 51.66%\n",
      "Accuracy for class 3: 35.82%\n",
      "Accuracy for class 4: 52.00%\n"
     ]
    },
    {
     "name": "stderr",
     "output_type": "stream",
     "text": [
      "                                                                         \r"
     ]
    },
    {
     "name": "stdout",
     "output_type": "stream",
     "text": [
      "\n",
      "Epoch [3/4] - Train Loss: 11.2211, Train Acc: 0.7599\n"
     ]
    },
    {
     "name": "stderr",
     "output_type": "stream",
     "text": [
      "                                                                           \r"
     ]
    },
    {
     "name": "stdout",
     "output_type": "stream",
     "text": [
      "Validation Acc: 0.4508\n",
      "Accuracy for class 0: 43.94%\n",
      "Accuracy for class 1: 35.71%\n",
      "Accuracy for class 2: 59.12%\n",
      "Accuracy for class 3: 29.85%\n",
      "Accuracy for class 4: 40.00%\n"
     ]
    },
    {
     "name": "stderr",
     "output_type": "stream",
     "text": [
      "                                                                         \r"
     ]
    },
    {
     "name": "stdout",
     "output_type": "stream",
     "text": [
      "\n",
      "Epoch [4/4] - Train Loss: 8.3757, Train Acc: 0.8092\n"
     ]
    },
    {
     "name": "stderr",
     "output_type": "stream",
     "text": [
      "                                                                            \r"
     ]
    },
    {
     "name": "stdout",
     "output_type": "stream",
     "text": [
      "Validation Acc: 0.4874\n",
      "Accuracy for class 0: 49.35%\n",
      "Accuracy for class 1: 25.27%\n",
      "Accuracy for class 2: 61.33%\n",
      "Accuracy for class 3: 29.85%\n",
      "Accuracy for class 4: 46.00%\n"
     ]
    },
    {
     "data": {
      "image/png": "[encoded data removed]",
      "text/plain": [
       "<Figure size 1200x500 with 2 Axes>"
      ]
     },
     "metadata": {},
     "output_type": "display_data"
    }
   ],
   "source": [
    "from sklearn.metrics import confusion_matrix\n",
    "import numpy as np\n",
    "from tqdm import tqdm  # progress bars\n",
    "import matplotlib.pyplot as plt # inspied by hw2\n",
    "\n",
    "# training loop\n",
    "def train(model, train_loader, val_loader, optimizer, scheduler, verbose, epochs):\n",
    "    \n",
    "    # for plotting, thanks hw2\n",
    "    train_losses = []\n",
    "    val_accuracies = []\n",
    "    train_accuracies = []\n",
    "    \n",
    "    # for number of epochs\n",
    "    for epoch in range(epochs):\n",
    "        # switch model to train mode\n",
    "        model.train()\n",
    "        # vars for recording\n",
    "        total_loss = 0.0\n",
    "        correct = 0\n",
    "        total = 0\n",
    "\n",
    "        # loading bar for easy timing\n",
    "        batch_iterator = tqdm(train_loader, desc=f\"Epoch {epoch+1}/{epochs}\", leave=False) if verbose else train_loader\n",
    "\n",
    "        # for each image in each batch\n",
    "        for images, labels in batch_iterator:\n",
    "            images = images.to(device)\n",
    "            labels = labels.to(device)\n",
    "\n",
    "            # forward pass and loss calculation\n",
    "            outputs = model(images)\n",
    "            loss = criterion(outputs, labels)\n",
    "\n",
    "            # backward pass and optimization\n",
    "            optimizer.zero_grad()\n",
    "            loss.backward()\n",
    "            optimizer.step()\n",
    "\n",
    "            # total loss calculation and prediction summation\n",
    "            total_loss += loss.item()\n",
    "            _, predicted = torch.max(outputs.data, 1)\n",
    "            total += labels.size(0)\n",
    "            correct += (predicted == labels).sum().item()\n",
    "\n",
    "            # update loading bar\n",
    "            if verbose: batch_iterator.set_postfix(loss=loss.item()) \n",
    "\n",
    "        # calculate accuracy and print\n",
    "        train_acc = correct / total\n",
    "        train_losses.append(total_loss)\n",
    "        train_accuracies.append(train_acc)\n",
    "        print(f\"\\nEpoch [{epoch+1}/{epochs}] - Train Loss: {total_loss:.4f}, Train Acc: {train_acc:.4f}\")\n",
    "\n",
    "        # validation loop\n",
    "        model.eval()\n",
    "        val_loss = 0.0\n",
    "        val_correct = 0\n",
    "        val_total = 0\n",
    "        \n",
    "        val_iterator = tqdm(val_loader, desc=f\"Validating {epoch+1}/{epochs}\", leave=False) if verbose else val_loader\n",
    "        \n",
    "        all_preds = []\n",
    "        all_labels = []\n",
    "        \n",
    "        correct_per_class = torch.zeros(5)\n",
    "        total_per_class = torch.zeros(5)\n",
    "        \n",
    "        with torch.no_grad():\n",
    "            # for each image in validation set\n",
    "            for images, labels in val_iterator:\n",
    "                images = images.to(device)\n",
    "                labels = labels.to(device)\n",
    "\n",
    "                outputs = model(images)\n",
    "                loss = criterion(outputs, labels)\n",
    "                val_loss += loss.item()\n",
    "                \n",
    "                _, predicted = torch.max(outputs.data, 1)\n",
    "                val_total += labels.size(0)\n",
    "                val_correct += (predicted == labels).sum().item()\n",
    "                \n",
    "                # classwise accuracy\n",
    "                for label, pred in zip(labels, predicted):\n",
    "                    total_per_class[label] += 1\n",
    "                    if label == pred:\n",
    "                        correct_per_class[label] += 1\n",
    "                \n",
    "                if verbose: val_iterator.set_postfix(loss=loss.item())\n",
    "\n",
    "        val_acc = val_correct / val_total\n",
    "        val_accuracies.append(val_acc)\n",
    "        print(f\"Validation Acc: {val_acc:.4f}\")\n",
    "        \n",
    "        for i in range(5):\n",
    "            if total_per_class[i] > 0:\n",
    "                acc = 100 * correct_per_class[i] / total_per_class[i]\n",
    "                print(f\"Accuracy for class {i}: {acc:.2f}%\")\n",
    "            else:\n",
    "                print(f\"Class {i} has no samples.\")\n",
    "    \n",
    "        # step the scheduler to reduce learning rate\n",
    "        avg_val_loss = val_loss / len(val_iterator)\n",
    "\n",
    "        # step the scheduler\n",
    "        scheduler.step()\n",
    "        \n",
    "    return train_losses, train_accuracies, val_accuracies\n",
    "\n",
    "\n",
    "train_losses, train_accuracies, val_accuracies = train(model, train_loader, val_loader, optimizer, scheduler, verbose=True, epochs=4)\n",
    "epochs_range = range(1, len(train_losses)+1)\n",
    "\n",
    "plt.figure(figsize=(12,5))\n",
    "\n",
    "plt.subplot(1,2,1)\n",
    "plt.plot(epochs_range, train_losses, label='Training Loss')\n",
    "plt.xlabel('Epoch')\n",
    "plt.ylabel('Loss')\n",
    "plt.title('Training Loss / Epochs')\n",
    "plt.legend()\n",
    "\n",
    "plt.subplot(1,2,2)\n",
    "plt.plot(epochs_range, train_accuracies, label='Training Accuracy')\n",
    "plt.plot(epochs_range, val_accuracies, label='Validation Accuracy')\n",
    "plt.xlabel('Epoch')\n",
    "plt.ylabel('Accuracy')\n",
    "plt.title('Training vs Validation Accuracy')\n",
    "plt.legend()\n",
    "\n",
    "plt.tight_layout()\n",
    "plt.savefig('DenseNet_training.png', bbox_inches='tight')\n",
    "plt.show()\n"
   ]
  },
  {
   "cell_type": "markdown",
   "id": "930c32a6-9f28-4200-a1e3-d680fbd60ca1",
   "metadata": {},
   "source": [
    "## Train Time Analysis\n",
    "\n",
    "The model heavily overfits to class 0. Despite repeated efforts to mitigate memorization of class 0 features and introduce bias toward underrepresented classes 1 and 3, the model continues to reduce its accuracy for underrepresented classes while overemphasizing overrepresented classes. Despite the use of focal loss and weighted sampling, the skew remains. Note that validation set accuracy is heavily dependant on class 0 accuracy because of the large skew toward class 0 in validation set sampling. Currently selected hyperparameters of lr=1e-4 and weight_decay=1e-4 are considered to be optimal."
   ]
  },
  {
   "cell_type": "code",
   "execution_count": 9,
   "id": "4fcc8a21-52a3-4560-8b33-a12a3841babe",
   "metadata": {},
   "outputs": [],
   "source": [
    "model_path = \"DenseNetModelFinal.pth\"\n",
    "torch.save(model.state_dict(), model_path)"
   ]
  },
  {
   "cell_type": "markdown",
   "id": "0363d202-e87c-4db0-8bdc-c88f6565ff00",
   "metadata": {},
   "source": [
    "## Testing Data Import\n",
    "\n",
    "We import two testing sets: reject and enhanced reject images."
   ]
  },
  {
   "cell_type": "code",
   "execution_count": 10,
   "id": "45ec8c31-7d10-433e-85ab-bd54a8f6c891",
   "metadata": {},
   "outputs": [],
   "source": [
    "import pandas as pd # for CSV from EyeQ dataset\n",
    "import torch\n",
    "from torchvision import transforms\n",
    "from torch.utils.data import Dataset, DataLoader\n",
    "from PIL import Image\n",
    "import os\n",
    "\n",
    "# test image loader\n",
    "class TestDataset(Dataset):\n",
    "    def __init__(self, csv_file, root_dir, transform=None):\n",
    "        self.root_dir = root_dir\n",
    "        self.transform = transform\n",
    "        df = pd.read_csv(csv_file)\n",
    "        \n",
    "        # necessary since enhanced images are PNG and rejects are jpeg\n",
    "        def find_existing_file(image_name):\n",
    "            base_name = os.path.splitext(image_name)[0]\n",
    "            for ext in ['.jpeg', '.png']:\n",
    "                candidate = os.path.join(root_dir, base_name + ext)\n",
    "                if os.path.exists(candidate):\n",
    "                    return candidate\n",
    "            return None\n",
    "\n",
    "        # keep only rows with images in the directory\n",
    "        df['full_path'] = df['image'].apply(find_existing_file)\n",
    "        df = df[df['full_path'].notnull()]\n",
    "\n",
    "        # reset index\n",
    "        self.annotations = df.reset_index(drop=True)\n",
    "\n",
    "    def __len__(self):\n",
    "        return len(self.annotations)\n",
    "\n",
    "    def __getitem__(self, index):\n",
    "        # get image path\n",
    "        img_path = self.annotations.iloc[index]['full_path']\n",
    "        # convert image to RGB\n",
    "        image = Image.open(img_path).convert(\"RGB\")\n",
    "        # add label according to EyeQ dataset\n",
    "        label = self.annotations.iloc[index]['DR_grade']\n",
    "\n",
    "        # transform\n",
    "        if self.transform:\n",
    "            image = self.transform(image)\n",
    "\n",
    "        return image, label\n",
    "\n"
   ]
  },
  {
   "cell_type": "markdown",
   "id": "03f756b4-bcca-4634-a7ea-394f1971152a",
   "metadata": {},
   "source": [
    "We transform the images to the ImageNet standard for use with the DeepNet model. Using original image sizes would make training too computationally heavy."
   ]
  },
  {
   "cell_type": "code",
   "execution_count": 11,
   "id": "03bfab06-bb6b-4649-a282-e778cdecb672",
   "metadata": {},
   "outputs": [
    {
     "name": "stdout",
     "output_type": "stream",
     "text": [
      "Test sets defined.\n"
     ]
    }
   ],
   "source": [
    "\n",
    "# transform to imagenet standard\n",
    "test_transforms = transforms.Compose([\n",
    "    transforms.Resize((224, 224)),   # imagenet size\n",
    "    transforms.ToTensor(),\n",
    "    transforms.Normalize(mean=[0.485, 0.456, 0.406], std=[0.229, 0.224, 0.225]),\n",
    "])\n",
    "\n",
    "# load reject images (all quality 0)\n",
    "reject_test_dataset = TestDataset(csv_file='Label_EyeQ_test.csv', root_dir=reject_test_dir, transform=test_transforms)\n",
    "reject_test_loader = DataLoader(reject_test_dataset, batch_size=64, shuffle=False)\n",
    "\n",
    "# load images enhanced with Cofe-Net\n",
    "enhanced_test_dataset = TestDataset(csv_file='Label_EyeQ_test.csv', root_dir=enhanced_test_dir, transform=test_transforms)\n",
    "enhanced_test_loader = DataLoader(enhanced_test_dataset, batch_size=64, shuffle=False)\n",
    "\n",
    "print(\"Test sets defined.\")"
   ]
  },
  {
   "cell_type": "code",
   "execution_count": 12,
   "id": "0f013291-14a3-4f6e-b69e-4ee900a31415",
   "metadata": {},
   "outputs": [],
   "source": [
    "import matplotlib.pyplot as plt\n",
    "from sklearn.metrics import (\n",
    "    confusion_matrix,\n",
    "    ConfusionMatrixDisplay,\n",
    "    precision_score,\n",
    "    recall_score,\n",
    "    f1_score,\n",
    "    roc_auc_score,\n",
    "    classification_report\n",
    ")\n",
    "\n",
    "reject_labels = reject_test_dataset.annotations['DR_grade']\n",
    "reject_class_counts = reject_labels.value_counts().sort_index()\n",
    "\n",
    "enhanced_labels = enhanced_test_dataset.annotations['DR_grade']\n",
    "enhanced_class_counts = enhanced_labels.value_counts().sort_index()\n"
   ]
  },
  {
   "cell_type": "markdown",
   "id": "ddab7ab8-1337-4748-8c73-6ff18eefb4f8",
   "metadata": {},
   "source": [
    "## Original Reject Quality Image Test\n",
    "\n",
    "We test the original reject quality images to find accuracy as well as classwise accuracy, precision, recall, F1, AUC, and confusion matrix."
   ]
  },
  {
   "cell_type": "code",
   "execution_count": 13,
   "id": "156c0d1b-e537-4ad1-a657-618eda64c620",
   "metadata": {},
   "outputs": [
    {
     "name": "stderr",
     "output_type": "stream",
     "text": [
      "                                                                         \r"
     ]
    },
    {
     "name": "stdout",
     "output_type": "stream",
     "text": [
      "Reject Test Acc: 0.4409\n",
      "Accuracy for class 0: 45.11%\n",
      "Accuracy for class 1: 11.11%\n",
      "Accuracy for class 2: 54.19%\n",
      "Accuracy for class 3: 4.81%\n",
      "Accuracy for class 4: 50.51%\n",
      "\n",
      "Classification Report:\n",
      "              precision    recall  f1-score   support\n",
      "\n",
      "           0     0.8021    0.4511    0.5774      2166\n",
      "           1     0.0714    0.1111    0.0870       153\n",
      "           2     0.2138    0.5419    0.3066       561\n",
      "           3     0.1000    0.0481    0.0649       104\n",
      "           4     0.3937    0.5051    0.4425       198\n",
      "\n",
      "    accuracy                         0.4409      3182\n",
      "   macro avg     0.3162    0.3314    0.2957      3182\n",
      "weighted avg     0.6149    0.4409    0.4809      3182\n",
      "\n",
      "AUC Score (macro average): 0.5854\n"
     ]
    },
    {
     "data": {
      "image/png": "[encoded data removed]",
      "text/plain": [
       "<Figure size 640x480 with 2 Axes>"
      ]
     },
     "metadata": {},
     "output_type": "display_data"
    }
   ],
   "source": [
    "\n",
    "model.eval()\n",
    "reject_all_preds = []\n",
    "reject_all_labels = []\n",
    "\n",
    "reject_correct_per_class = torch.zeros(5)\n",
    "reject_total_per_class = torch.zeros(5)\n",
    "\n",
    "with torch.no_grad():\n",
    "    reject_test_iterator = tqdm(reject_test_loader, desc=\"Testing reject images...\", leave=False)\n",
    "    reject_test_correct = 0\n",
    "    reject_test_total = 0\n",
    "    for images, labels in reject_test_iterator:\n",
    "        images = images.to(device)\n",
    "        labels = labels.to(device)\n",
    "\n",
    "        outputs = model(images)\n",
    "        _, preds = torch.max(outputs, 1)\n",
    "        \n",
    "        # classwise accuracy\n",
    "        for label, pred in zip(labels, preds):\n",
    "            reject_total_per_class[label] += 1\n",
    "            if label == pred:\n",
    "                reject_correct_per_class[label] += 1\n",
    "        \n",
    "        reject_test_total += labels.size(0)\n",
    "        reject_test_correct += (preds == labels).sum().item()\n",
    "\n",
    "        reject_all_preds.extend(preds.cpu().numpy())\n",
    "        reject_all_labels.extend(labels.cpu().numpy())\n",
    "\n",
    "reject_test_accuracy = reject_test_correct / reject_test_total\n",
    "print(f\"Reject Test Acc: {reject_test_accuracy:.4f}\")\n",
    "\n",
    "rej_test_class_acc = []\n",
    "for i in range(5):\n",
    "    if reject_total_per_class[i] > 0:\n",
    "        acc = 100 * reject_correct_per_class[i] / reject_total_per_class[i]\n",
    "        rej_test_class_acc.append(acc)\n",
    "        print(f\"Accuracy for class {i}: {acc:.2f}%\")\n",
    "    else:\n",
    "        print(f\"Class {i} has no samples.\")\n",
    "        \n",
    "# classification report contains precision, recall, and F1 score\n",
    "print(\"\\nClassification Report:\")\n",
    "print(classification_report(reject_all_labels, reject_all_preds, digits=4))\n",
    "        \n",
    "try:\n",
    "    # AUC\n",
    "    from sklearn.preprocessing import label_binarize\n",
    "    reject_all_labels_onehot = label_binarize(reject_all_labels, classes=[0, 1, 2, 3, 4])\n",
    "    reject_all_preds_onehot = label_binarize(reject_all_preds, classes=[0, 1, 2, 3, 4])\n",
    "\n",
    "    reject_auc = roc_auc_score(reject_all_labels_onehot, reject_all_preds_onehot, average=\"macro\", multi_class=\"ovo\")\n",
    "    print(f\"AUC Score (macro average): {reject_auc:.4f}\")\n",
    "except Exception as e:\n",
    "    print(f\"Could not compute AUC: {e}\")\n",
    "\n",
    "reject_cm = confusion_matrix(reject_all_labels, reject_all_preds)\n",
    "reject_disp = ConfusionMatrixDisplay(confusion_matrix=reject_cm, display_labels=[0, 1, 2, 3, 4])\n",
    "reject_disp.plot(cmap='Blues')\n",
    "plt.title('Confusion Matrix')\n",
    "plt.savefig('Confusion Matrix: DenseNet121 Original Reject Quality Images.png', bbox_inches='tight')\n",
    "plt.show()"
   ]
  },
  {
   "cell_type": "markdown",
   "id": "70292222-ef5c-4c9f-834d-48cd12f1b183",
   "metadata": {},
   "source": [
    "## Enhanced Reject Quality Image Test\n",
    "\n",
    "We test the enhanced reject quality images to find accuracy as well as classwise accuracy, precision, recall, F1, AUC, and confusion matrix."
   ]
  },
  {
   "cell_type": "code",
   "execution_count": 14,
   "id": "3e3b7031-b4e2-4068-97b7-f8bdc147495d",
   "metadata": {},
   "outputs": [
    {
     "name": "stderr",
     "output_type": "stream",
     "text": [
      "                                                                           \r"
     ]
    },
    {
     "name": "stdout",
     "output_type": "stream",
     "text": [
      "Enhanced Test Acc: 0.4136\n",
      "Accuracy for class 0: 41.04%\n",
      "Accuracy for class 1: 12.42%\n",
      "Accuracy for class 2: 59.00%\n",
      "Accuracy for class 3: 5.77%\n",
      "Accuracy for class 4: 35.86%\n",
      "\n",
      "Classification Report:\n",
      "              precision    recall  f1-score   support\n",
      "\n",
      "           0     0.8002    0.4104    0.5426      2166\n",
      "           1     0.0782    0.1242    0.0960       153\n",
      "           2     0.2166    0.5900    0.3169       561\n",
      "           3     0.1091    0.0577    0.0755       104\n",
      "           4     0.2898    0.3586    0.3205       198\n",
      "\n",
      "    accuracy                         0.4136      3182\n",
      "   macro avg     0.2988    0.3082    0.2703      3182\n",
      "weighted avg     0.6082    0.4136    0.4522      3182\n",
      "\n",
      "AUC Score (macro average): 0.5718\n"
     ]
    },
    {
     "data": {
      "image/png": "[encoded data removed]",
      "text/plain": [
       "<Figure size 640x480 with 2 Axes>"
      ]
     },
     "metadata": {},
     "output_type": "display_data"
    }
   ],
   "source": [
    "model.eval()\n",
    "enhanced_all_preds = []\n",
    "enhanced_all_labels = []\n",
    "\n",
    "enhanced_correct_per_class = torch.zeros(5)\n",
    "enhanced_total_per_class = torch.zeros(5)\n",
    "\n",
    "with torch.no_grad():\n",
    "    enhanced_test_iterator = tqdm(enhanced_test_loader, desc=\"Testing enhanced images...\", leave=False)\n",
    "    enhanced_test_correct = 0\n",
    "    enhanced_test_total = 0\n",
    "    for images, labels in enhanced_test_iterator:\n",
    "        images = images.to(device)\n",
    "        labels = labels.to(device)\n",
    "\n",
    "        outputs = model(images)\n",
    "        _, preds = torch.max(outputs, 1)\n",
    "        \n",
    "        # classwise accuracy\n",
    "        for label, pred in zip(labels, preds):\n",
    "            enhanced_total_per_class[label] += 1\n",
    "            if label == pred:\n",
    "                enhanced_correct_per_class[label] += 1\n",
    "        \n",
    "        enhanced_test_total += labels.size(0)\n",
    "        enhanced_test_correct += (preds == labels).sum().item()\n",
    "\n",
    "        enhanced_all_preds.extend(preds.cpu().numpy())\n",
    "        enhanced_all_labels.extend(labels.cpu().numpy())\n",
    "\n",
    "enhanced_test_accuracy = enhanced_test_correct / enhanced_test_total\n",
    "print(f\"Enhanced Test Acc: {enhanced_test_accuracy:.4f}\")\n",
    "\n",
    "enh_test_class_acc = []\n",
    "for i in range(5):\n",
    "    if enhanced_total_per_class[i] > 0:\n",
    "        acc = 100 * enhanced_correct_per_class[i] / enhanced_total_per_class[i]\n",
    "        enh_test_class_acc.append(acc)\n",
    "        print(f\"Accuracy for class {i}: {acc:.2f}%\")\n",
    "    else:\n",
    "        print(f\"Class {i} has no samples.\")\n",
    "        \n",
    "# classification report contains precision, recall, and F1 score\n",
    "print(\"\\nClassification Report:\")\n",
    "print(classification_report(enhanced_all_labels, enhanced_all_preds, digits=4))\n",
    "        \n",
    "try:\n",
    "    # AUC\n",
    "    from sklearn.preprocessing import label_binarize\n",
    "    enhanced_all_labels_onehot = label_binarize(enhanced_all_labels, classes=[0, 1, 2, 3, 4])\n",
    "    enhanced_all_preds_onehot = label_binarize(enhanced_all_preds, classes=[0, 1, 2, 3, 4])\n",
    "\n",
    "    enhanced_auc = roc_auc_score(enhanced_all_labels_onehot, enhanced_all_preds_onehot, average=\"macro\", multi_class=\"ovo\")\n",
    "    print(f\"AUC Score (macro average): {enhanced_auc:.4f}\")\n",
    "except Exception as e:\n",
    "    print(f\"Could not compute AUC: {e}\")\n",
    "\n",
    "enhanced_cm = confusion_matrix(enhanced_all_labels, enhanced_all_preds)\n",
    "enhanced_disp = ConfusionMatrixDisplay(confusion_matrix=enhanced_cm, display_labels=[0, 1, 2, 3, 4])\n",
    "enhanced_disp.plot(cmap='Blues')\n",
    "plt.title('Confusion Matrix: DenseNet121 Enhanced Reject Quality Images')\n",
    "plt.savefig('DenseNet_enhanced_confmat.png', bbox_inches='tight')\n",
    "plt.show()"
   ]
  },
  {
   "cell_type": "markdown",
   "id": "3d328c5a-6613-43ed-8774-dbbd416f655a",
   "metadata": {},
   "source": [
    "## Evaluation\n",
    "\n",
    "The main difference in classwise accuracy comes from Class 0 images, those which do not show signs of Diabetic Retinopathy. More of these images are incorrectly labeled as Class 2 and Class 4 in the Enhanced tests compared to the Original tests, as shown in the confusion matrixes. "
   ]
  },
  {
   "cell_type": "code",
   "execution_count": 15,
   "id": "1f47ddf3-87cf-426a-8a14-d25c70bd890f",
   "metadata": {},
   "outputs": [
    {
     "name": "stdout",
     "output_type": "stream",
     "text": [
      "F1 Paired t-test result: t-stat = -0.9900, p-value = 0.3782\n"
     ]
    }
   ],
   "source": [
    "\n",
    "from scipy import stats\n",
    "\n",
    "reject_f1_per_class = f1_score(reject_all_labels, reject_all_preds, labels=[0, 1, 2, 3, 4], average=None)\n",
    "enhanced_f1_per_class = f1_score(enhanced_all_labels, enhanced_all_preds, labels=[0, 1, 2, 3, 4], average=None)\n",
    "\n",
    "t_stat, p_value = stats.ttest_rel(enhanced_f1_per_class, reject_f1_per_class)\n",
    "\n",
    "print(f\"F1 Paired t-test result: t-stat = {t_stat:.4f}, p-value = {p_value:.4f}\")\n"
   ]
  }
 ],
 "metadata": {
  "kernelspec": {
   "display_name": "Python 3 (ipykernel)",
   "language": "python",
   "name": "python3"
  },
  "language_info": {
   "codemirror_mode": {
    "name": "ipython",
    "version": 3
   },
   "file_extension": ".py",
   "mimetype": "text/x-python",
   "name": "python",
   "nbconvert_exporter": "python",
   "pygments_lexer": "ipython3",
   "version": "3.9.7"
  }
 },
 "nbformat": 4,
 "nbformat_minor": 5
}
